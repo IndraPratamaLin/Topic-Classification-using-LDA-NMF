{
 "cells": [
  {
   "cell_type": "code",
   "execution_count": 1,
   "metadata": {
    "_cell_guid": "b1076dfc-b9ad-4769-8c92-a6c4dae69d19",
    "_uuid": "8f2839f25d086af736a60e9eeb907d3b93b6e0e5"
   },
   "outputs": [],
   "source": [
    "import numpy as np # linear algebra\n",
    "import pandas as pd # data processing, CSV file I/O (e.g. pd.read_csv)\n",
    "import matplotlib.pyplot as plt\n",
    "import seaborn as sns\n",
    "import os\n",
    "import re\n",
    "import warnings\n",
    "warnings.filterwarnings('ignore')\n",
    "\n",
    "plt.style.use('fivethirtyeight')\n",
    "plt.rcParams['figure.figsize'] = [18, 8]\n",
    "\n",
    "pd.set_option('max_colwidth', -1)"
   ]
  },
  {
   "cell_type": "code",
   "execution_count": 2,
   "metadata": {
    "_cell_guid": "79c7e3d0-c299-4dcb-8224-4455121ee9b0",
    "_uuid": "d629ff2d2480ee46fbb7e2d37f6b5fab8052498a"
   },
   "outputs": [
    {
     "name": "stdout",
     "output_type": "stream",
     "text": [
      "Items shape: (10942, 9)\n",
      "Reviews shape: (203787, 15)\n"
     ]
    }
   ],
   "source": [
    "items_df = pd.read_csv('/kaggle/input/lazada-indonesian-reviews/20191002-items.csv')\n",
    "reviews_df = pd.read_csv('/kaggle/input/lazada-indonesian-reviews/20191002-reviews.csv')\n",
    "\n",
    "print('Items shape:', items_df.shape)\n",
    "print('Reviews shape:', reviews_df.shape)"
   ]
  },
  {
   "cell_type": "markdown",
   "metadata": {},
   "source": [
    "## Data Cleaning\n",
    "\n",
    "### 1. Category doesn't match with items name, so we cannot use this feature for prediction"
   ]
  },
  {
   "cell_type": "code",
   "execution_count": 3,
   "metadata": {},
   "outputs": [
    {
     "data": {
      "text/html": [
       "<div>\n",
       "<style scoped>\n",
       "    .dataframe tbody tr th:only-of-type {\n",
       "        vertical-align: middle;\n",
       "    }\n",
       "\n",
       "    .dataframe tbody tr th {\n",
       "        vertical-align: top;\n",
       "    }\n",
       "\n",
       "    .dataframe thead th {\n",
       "        text-align: right;\n",
       "    }\n",
       "</style>\n",
       "<table border=\"1\" class=\"dataframe\">\n",
       "  <thead>\n",
       "    <tr style=\"text-align: right;\">\n",
       "      <th></th>\n",
       "      <th>category</th>\n",
       "      <th>name</th>\n",
       "    </tr>\n",
       "  </thead>\n",
       "  <tbody>\n",
       "    <tr>\n",
       "      <th>0</th>\n",
       "      <td>beli-harddisk-eksternal</td>\n",
       "      <td>TOSHIBA Smart HD LED TV 32\" - 32L5650VJ Free Bracket TV - Hitam - Khusus Jabodetabek</td>\n",
       "    </tr>\n",
       "    <tr>\n",
       "      <th>1</th>\n",
       "      <td>beli-harddisk-eksternal</td>\n",
       "      <td>TOSHIBA Full HD Smart LED TV 40\" - 40L5650VJ - Hitam - Khusus Jabodetabek</td>\n",
       "    </tr>\n",
       "    <tr>\n",
       "      <th>2</th>\n",
       "      <td>beli-harddisk-eksternal</td>\n",
       "      <td>Samsung 40 Inch Full HD Flat LED Digital TV 40J5000</td>\n",
       "    </tr>\n",
       "    <tr>\n",
       "      <th>3</th>\n",
       "      <td>beli-harddisk-eksternal</td>\n",
       "      <td>Sharp HD LED TV 24\" - LC-24LE175I - Hitam</td>\n",
       "    </tr>\n",
       "    <tr>\n",
       "      <th>4</th>\n",
       "      <td>beli-harddisk-eksternal</td>\n",
       "      <td>Lenovo Ideapad 130-15AST LAPTOP MULTIMEDIA I AMD A4-9125 I 8GB DDR4 I 1TB HDD I AMD Radeon R3 I 15,6 HD LED I DVDRW I DOS</td>\n",
       "    </tr>\n",
       "  </tbody>\n",
       "</table>\n",
       "</div>"
      ],
      "text/plain": [
       "                  category  \\\n",
       "0  beli-harddisk-eksternal   \n",
       "1  beli-harddisk-eksternal   \n",
       "2  beli-harddisk-eksternal   \n",
       "3  beli-harddisk-eksternal   \n",
       "4  beli-harddisk-eksternal   \n",
       "\n",
       "                                                                                                                        name  \n",
       "0  TOSHIBA Smart HD LED TV 32\" - 32L5650VJ Free Bracket TV - Hitam - Khusus Jabodetabek                                       \n",
       "1  TOSHIBA Full HD Smart LED TV 40\" - 40L5650VJ - Hitam - Khusus Jabodetabek                                                  \n",
       "2   Samsung 40 Inch Full HD Flat LED Digital TV 40J5000                                                                       \n",
       "3  Sharp HD LED TV 24\" - LC-24LE175I - Hitam                                                                                  \n",
       "4  Lenovo Ideapad 130-15AST LAPTOP MULTIMEDIA I AMD A4-9125 I 8GB DDR4 I 1TB HDD I AMD Radeon R3 I 15,6 HD LED I DVDRW I DOS  "
      ]
     },
     "execution_count": 3,
     "metadata": {},
     "output_type": "execute_result"
    }
   ],
   "source": [
    "items_df[['category', 'name']].head()"
   ]
  },
  {
   "cell_type": "markdown",
   "metadata": {},
   "source": [
    "### 2. Delete null values & unimportant features"
   ]
  },
  {
   "cell_type": "code",
   "execution_count": 4,
   "metadata": {},
   "outputs": [
    {
     "data": {
      "text/html": [
       "<style  type=\"text/css\" >\n",
       "    #T_2f7b6358_aeea_11ea_b991_0242ac130202row0_col0 {\n",
       "            background-color:  #08306b;\n",
       "            color:  #f1f1f1;\n",
       "        }    #T_2f7b6358_aeea_11ea_b991_0242ac130202row1_col0 {\n",
       "            background-color:  #084f99;\n",
       "            color:  #f1f1f1;\n",
       "        }    #T_2f7b6358_aeea_11ea_b991_0242ac130202row2_col0 {\n",
       "            background-color:  #7db8da;\n",
       "            color:  #000000;\n",
       "        }    #T_2f7b6358_aeea_11ea_b991_0242ac130202row3_col0 {\n",
       "            background-color:  #f7fbff;\n",
       "            color:  #000000;\n",
       "        }</style><table id=\"T_2f7b6358_aeea_11ea_b991_0242ac130202\" ><thead>    <tr>        <th class=\"blank level0\" ></th>        <th class=\"col_heading level0 col0\" >Total Null</th>        <th class=\"col_heading level0 col1\" >percentage</th>    </tr></thead><tbody>\n",
       "                <tr>\n",
       "                        <th id=\"T_2f7b6358_aeea_11ea_b991_0242ac130202level0_row0\" class=\"row_heading level0 row0\" >originalRating</th>\n",
       "                        <td id=\"T_2f7b6358_aeea_11ea_b991_0242ac130202row0_col0\" class=\"data row0 col0\" >203779</td>\n",
       "                        <td id=\"T_2f7b6358_aeea_11ea_b991_0242ac130202row0_col1\" class=\"data row0 col1\" >100.0</td>\n",
       "            </tr>\n",
       "            <tr>\n",
       "                        <th id=\"T_2f7b6358_aeea_11ea_b991_0242ac130202level0_row1\" class=\"row_heading level0 row1\" >reviewTitle</th>\n",
       "                        <td id=\"T_2f7b6358_aeea_11ea_b991_0242ac130202row1_col0\" class=\"data row1 col0\" >180383</td>\n",
       "                        <td id=\"T_2f7b6358_aeea_11ea_b991_0242ac130202row1_col1\" class=\"data row1 col1\" >88.5</td>\n",
       "            </tr>\n",
       "            <tr>\n",
       "                        <th id=\"T_2f7b6358_aeea_11ea_b991_0242ac130202level0_row2\" class=\"row_heading level0 row2\" >reviewContent</th>\n",
       "                        <td id=\"T_2f7b6358_aeea_11ea_b991_0242ac130202row2_col0\" class=\"data row2 col0\" >96758</td>\n",
       "                        <td id=\"T_2f7b6358_aeea_11ea_b991_0242ac130202row2_col1\" class=\"data row2 col1\" >47.5</td>\n",
       "            </tr>\n",
       "            <tr>\n",
       "                        <th id=\"T_2f7b6358_aeea_11ea_b991_0242ac130202level0_row3\" class=\"row_heading level0 row3\" >boughtDate</th>\n",
       "                        <td id=\"T_2f7b6358_aeea_11ea_b991_0242ac130202row3_col0\" class=\"data row3 col0\" >7107</td>\n",
       "                        <td id=\"T_2f7b6358_aeea_11ea_b991_0242ac130202row3_col1\" class=\"data row3 col1\" >3.5</td>\n",
       "            </tr>\n",
       "    </tbody></table>"
      ],
      "text/plain": [
       "<pandas.io.formats.style.Styler at 0x7fd8abdd4110>"
      ]
     },
     "execution_count": 4,
     "metadata": {},
     "output_type": "execute_result"
    }
   ],
   "source": [
    "null_col = reviews_df.columns[reviews_df.isna().any()]\n",
    "review_null = reviews_df[null_col].isna().sum().rename('Total Null').to_frame()\n",
    "review_null['percentage'] = round(review_null['Total Null'] / reviews_df.shape[0] * 100, 1)\n",
    "review_null['percentage'] = review_null['percentage'].astype(str)\n",
    "\n",
    "review_null.style.background_gradient('Blues')"
   ]
  },
  {
   "cell_type": "code",
   "execution_count": 5,
   "metadata": {},
   "outputs": [
    {
     "name": "stdout",
     "output_type": "stream",
     "text": [
      "Features has been dropped\n"
     ]
    }
   ],
   "source": [
    "items_df.drop(['retrievedDate', 'category'], axis=1, inplace=True)\n",
    "reviews_df.drop(['retrievedDate', 'category', 'originalRating', 'reviewTitle', 'helpful'], axis=1, inplace=True)\n",
    "\n",
    "print('Features has been dropped')"
   ]
  },
  {
   "cell_type": "markdown",
   "metadata": {},
   "source": [
    "### 3. Duplicated rows can make bias in prediction, so we must drop.."
   ]
  },
  {
   "cell_type": "code",
   "execution_count": 6,
   "metadata": {},
   "outputs": [
    {
     "name": "stdout",
     "output_type": "stream",
     "text": [
      "Items duplicated rows: 6520\n",
      "Reviews duplicated rows 122673\n",
      "\n",
      "Duplicated rows has been dropped\n"
     ]
    }
   ],
   "source": [
    "print(\"Items duplicated rows:\", items_df.duplicated().sum())\n",
    "print(\"Reviews duplicated rows\", reviews_df.duplicated().sum())\n",
    "\n",
    "items_df.drop_duplicates(inplace=True)\n",
    "reviews_df.drop_duplicates(inplace=True)\n",
    "\n",
    "print('\\nDuplicated rows has been dropped')"
   ]
  },
  {
   "cell_type": "markdown",
   "metadata": {},
   "source": [
    "### 4. Text Cleaning for recommendation model"
   ]
  },
  {
   "cell_type": "code",
   "execution_count": 7,
   "metadata": {},
   "outputs": [],
   "source": [
    "def clean_text(text):\n",
    "    text = text.lower()\n",
    "    text = re.sub(r'[-/|()+&\\[\\]]', ' ', text)\n",
    "    text = re.sub(r'khusus|daerah|jabodetabek|medan|murah|indonesia|gratis|ongkir|garansi|tahun|harga|ecer|jadetabek|ready', '', text)\n",
    "    text = re.sub(r'100%|ori', ' ', text)\n",
    "    tokenizer = text.split()\n",
    "    return ' '.join([word for word in tokenizer])\n",
    "\n",
    "items_df['name'] = items_df['name'].apply(clean_text)"
   ]
  },
  {
   "cell_type": "code",
   "execution_count": 8,
   "metadata": {},
   "outputs": [
    {
     "data": {
      "text/html": [
       "<div>\n",
       "<style scoped>\n",
       "    .dataframe tbody tr th:only-of-type {\n",
       "        vertical-align: middle;\n",
       "    }\n",
       "\n",
       "    .dataframe tbody tr th {\n",
       "        vertical-align: top;\n",
       "    }\n",
       "\n",
       "    .dataframe thead th {\n",
       "        text-align: right;\n",
       "    }\n",
       "</style>\n",
       "<table border=\"1\" class=\"dataframe\">\n",
       "  <thead>\n",
       "    <tr style=\"text-align: right;\">\n",
       "      <th></th>\n",
       "      <th>itemId</th>\n",
       "      <th>name</th>\n",
       "      <th>brandName</th>\n",
       "      <th>url</th>\n",
       "      <th>price</th>\n",
       "      <th>averageRating</th>\n",
       "      <th>totalReviews</th>\n",
       "    </tr>\n",
       "  </thead>\n",
       "  <tbody>\n",
       "    <tr>\n",
       "      <th>0</th>\n",
       "      <td>100002528</td>\n",
       "      <td>toshiba smart hd led tv 32\" 32l5650vj free bracket tv hitam</td>\n",
       "      <td>Toshiba</td>\n",
       "      <td>https://www.lazada.co.id/products/toshiba-smart-hd-led-tv-32-32l5650vj-free-bracket-tv-hitam-khusus-jabodetabek-i100002528-s100003593.html?search=1</td>\n",
       "      <td>2499000</td>\n",
       "      <td>4</td>\n",
       "      <td>8</td>\n",
       "    </tr>\n",
       "    <tr>\n",
       "      <th>1</th>\n",
       "      <td>100003785</td>\n",
       "      <td>toshiba full hd smart led tv 40\" 40l5650vj hitam</td>\n",
       "      <td>Toshiba</td>\n",
       "      <td>https://www.lazada.co.id/products/toshiba-full-hd-smart-led-tv-40-40l5650vj-hitam-khusus-jabodetabek-i100003785-s100006061.html?search=1</td>\n",
       "      <td>3788000</td>\n",
       "      <td>3</td>\n",
       "      <td>3</td>\n",
       "    </tr>\n",
       "    <tr>\n",
       "      <th>2</th>\n",
       "      <td>100004132</td>\n",
       "      <td>samsung 40 inch full hd flat led digital tv 40j5000</td>\n",
       "      <td>LG</td>\n",
       "      <td>https://www.lazada.co.id/products/samsung-40-inch-full-hd-flat-led-digital-tv-40j5000-i100004132-s100006644.html?search=1</td>\n",
       "      <td>3850000</td>\n",
       "      <td>3</td>\n",
       "      <td>2</td>\n",
       "    </tr>\n",
       "    <tr>\n",
       "      <th>3</th>\n",
       "      <td>100004505</td>\n",
       "      <td>sharp hd led tv 24\" lc 24le175i hitam</td>\n",
       "      <td>Sharp</td>\n",
       "      <td>https://www.lazada.co.id/products/sharp-hd-led-tv-24-lc-24le175i-hitam-i100004505-s100007387.html?search=1</td>\n",
       "      <td>1275000</td>\n",
       "      <td>3</td>\n",
       "      <td>11</td>\n",
       "    </tr>\n",
       "    <tr>\n",
       "      <th>4</th>\n",
       "      <td>100005037</td>\n",
       "      <td>lenovo ideapad 130 15ast laptop multimedia i amd a4 9125 i 8gb ddr4 i 1tb hdd i amd radeon r3 i 15,6 hd led i dvdrw i dos</td>\n",
       "      <td>Lenovo</td>\n",
       "      <td>https://www.lazada.co.id/products/lenovo-ideapad-130-15ast-laptop-multimedia-i-amd-a4-9125-i-8gb-ddr4-i-1tb-hdd-i-amd-radeon-r3-i-156-hd-led-i-dvdrw-i-dos-i100005037-s100008405.html?search=1</td>\n",
       "      <td>3984100</td>\n",
       "      <td>5</td>\n",
       "      <td>1</td>\n",
       "    </tr>\n",
       "  </tbody>\n",
       "</table>\n",
       "</div>"
      ],
      "text/plain": [
       "      itemId  \\\n",
       "0  100002528   \n",
       "1  100003785   \n",
       "2  100004132   \n",
       "3  100004505   \n",
       "4  100005037   \n",
       "\n",
       "                                                                                                                        name  \\\n",
       "0  toshiba smart hd led tv 32\" 32l5650vj free bracket tv hitam                                                                 \n",
       "1  toshiba full hd smart led tv 40\" 40l5650vj hitam                                                                            \n",
       "2  samsung 40 inch full hd flat led digital tv 40j5000                                                                         \n",
       "3  sharp hd led tv 24\" lc 24le175i hitam                                                                                       \n",
       "4  lenovo ideapad 130 15ast laptop multimedia i amd a4 9125 i 8gb ddr4 i 1tb hdd i amd radeon r3 i 15,6 hd led i dvdrw i dos   \n",
       "\n",
       "  brandName  \\\n",
       "0  Toshiba    \n",
       "1  Toshiba    \n",
       "2  LG         \n",
       "3  Sharp      \n",
       "4  Lenovo     \n",
       "\n",
       "                                                                                                                                                                                              url  \\\n",
       "0  https://www.lazada.co.id/products/toshiba-smart-hd-led-tv-32-32l5650vj-free-bracket-tv-hitam-khusus-jabodetabek-i100002528-s100003593.html?search=1                                              \n",
       "1  https://www.lazada.co.id/products/toshiba-full-hd-smart-led-tv-40-40l5650vj-hitam-khusus-jabodetabek-i100003785-s100006061.html?search=1                                                         \n",
       "2  https://www.lazada.co.id/products/samsung-40-inch-full-hd-flat-led-digital-tv-40j5000-i100004132-s100006644.html?search=1                                                                        \n",
       "3  https://www.lazada.co.id/products/sharp-hd-led-tv-24-lc-24le175i-hitam-i100004505-s100007387.html?search=1                                                                                       \n",
       "4  https://www.lazada.co.id/products/lenovo-ideapad-130-15ast-laptop-multimedia-i-amd-a4-9125-i-8gb-ddr4-i-1tb-hdd-i-amd-radeon-r3-i-156-hd-led-i-dvdrw-i-dos-i100005037-s100008405.html?search=1   \n",
       "\n",
       "     price  averageRating  totalReviews  \n",
       "0  2499000  4              8             \n",
       "1  3788000  3              3             \n",
       "2  3850000  3              2             \n",
       "3  1275000  3              11            \n",
       "4  3984100  5              1             "
      ]
     },
     "execution_count": 8,
     "metadata": {},
     "output_type": "execute_result"
    }
   ],
   "source": [
    "items_df.head()"
   ]
  },
  {
   "cell_type": "code",
   "execution_count": 9,
   "metadata": {},
   "outputs": [
    {
     "data": {
      "text/html": [
       "<div>\n",
       "<style scoped>\n",
       "    .dataframe tbody tr th:only-of-type {\n",
       "        vertical-align: middle;\n",
       "    }\n",
       "\n",
       "    .dataframe tbody tr th {\n",
       "        vertical-align: top;\n",
       "    }\n",
       "\n",
       "    .dataframe thead th {\n",
       "        text-align: right;\n",
       "    }\n",
       "</style>\n",
       "<table border=\"1\" class=\"dataframe\">\n",
       "  <thead>\n",
       "    <tr style=\"text-align: right;\">\n",
       "      <th></th>\n",
       "      <th>itemId</th>\n",
       "      <th>name</th>\n",
       "      <th>rating</th>\n",
       "      <th>reviewContent</th>\n",
       "      <th>likeCount</th>\n",
       "      <th>upVotes</th>\n",
       "      <th>downVotes</th>\n",
       "      <th>relevanceScore</th>\n",
       "      <th>boughtDate</th>\n",
       "      <th>clientType</th>\n",
       "    </tr>\n",
       "  </thead>\n",
       "  <tbody>\n",
       "    <tr>\n",
       "      <th>0</th>\n",
       "      <td>100002528</td>\n",
       "      <td>Kamal U.</td>\n",
       "      <td>5</td>\n",
       "      <td>bagus  mantap dah sesui pesanan</td>\n",
       "      <td>0</td>\n",
       "      <td>0</td>\n",
       "      <td>0</td>\n",
       "      <td>26.51</td>\n",
       "      <td>09 Apr 2019</td>\n",
       "      <td>androidApp</td>\n",
       "    </tr>\n",
       "    <tr>\n",
       "      <th>1</th>\n",
       "      <td>100002528</td>\n",
       "      <td>yofanca m.</td>\n",
       "      <td>4</td>\n",
       "      <td>Bagus, sesuai foto</td>\n",
       "      <td>0</td>\n",
       "      <td>0</td>\n",
       "      <td>0</td>\n",
       "      <td>22.49</td>\n",
       "      <td>24 Sep 2017</td>\n",
       "      <td>androidApp</td>\n",
       "    </tr>\n",
       "    <tr>\n",
       "      <th>2</th>\n",
       "      <td>100002528</td>\n",
       "      <td>Lazada Customer</td>\n",
       "      <td>5</td>\n",
       "      <td>okkkkk mantaaaaaaapppp ... goood</td>\n",
       "      <td>0</td>\n",
       "      <td>0</td>\n",
       "      <td>0</td>\n",
       "      <td>21.50</td>\n",
       "      <td>04 Apr 2018</td>\n",
       "      <td>androidApp</td>\n",
       "    </tr>\n",
       "    <tr>\n",
       "      <th>3</th>\n",
       "      <td>100002528</td>\n",
       "      <td>Lazada Customer</td>\n",
       "      <td>4</td>\n",
       "      <td>bagus sesuai</td>\n",
       "      <td>0</td>\n",
       "      <td>0</td>\n",
       "      <td>0</td>\n",
       "      <td>20.51</td>\n",
       "      <td>22 Sep 2017</td>\n",
       "      <td>androidApp</td>\n",
       "    </tr>\n",
       "    <tr>\n",
       "      <th>4</th>\n",
       "      <td>100002528</td>\n",
       "      <td>Yosep M.</td>\n",
       "      <td>5</td>\n",
       "      <td>NaN</td>\n",
       "      <td>0</td>\n",
       "      <td>0</td>\n",
       "      <td>0</td>\n",
       "      <td>16.01</td>\n",
       "      <td>17 Agu 2018</td>\n",
       "      <td>androidApp</td>\n",
       "    </tr>\n",
       "  </tbody>\n",
       "</table>\n",
       "</div>"
      ],
      "text/plain": [
       "      itemId             name  rating                     reviewContent  \\\n",
       "0  100002528  Kamal U.         5       bagus  mantap dah sesui pesanan    \n",
       "1  100002528  yofanca m.       4       Bagus, sesuai foto                 \n",
       "2  100002528  Lazada Customer  5       okkkkk mantaaaaaaapppp ... goood   \n",
       "3  100002528  Lazada Customer  4       bagus sesuai                       \n",
       "4  100002528  Yosep M.         5       NaN                                \n",
       "\n",
       "   likeCount  upVotes  downVotes  relevanceScore   boughtDate  clientType  \n",
       "0  0          0        0          26.51           09 Apr 2019  androidApp  \n",
       "1  0          0        0          22.49           24 Sep 2017  androidApp  \n",
       "2  0          0        0          21.50           04 Apr 2018  androidApp  \n",
       "3  0          0        0          20.51           22 Sep 2017  androidApp  \n",
       "4  0          0        0          16.01           17 Agu 2018  androidApp  "
      ]
     },
     "execution_count": 9,
     "metadata": {},
     "output_type": "execute_result"
    }
   ],
   "source": [
    "reviews_df.head()"
   ]
  },
  {
   "cell_type": "code",
   "execution_count": 10,
   "metadata": {},
   "outputs": [
    {
     "name": "stdout",
     "output_type": "stream",
     "text": [
      "After cleaned:\n",
      "\n",
      "Items shape: (4422, 7)\n",
      "Reviews shape: (81114, 10)\n"
     ]
    }
   ],
   "source": [
    "print('After cleaned:\\n')\n",
    "print('Items shape:', items_df.shape)\n",
    "print('Reviews shape:', reviews_df.shape)"
   ]
  },
  {
   "cell_type": "markdown",
   "metadata": {},
   "source": [
    "## EDA"
   ]
  },
  {
   "cell_type": "code",
   "execution_count": 11,
   "metadata": {},
   "outputs": [
    {
     "data": {
      "image/png": "[encoded data removed]",
      "text/plain": [
       "<Figure size 1296x576 with 1 Axes>"
      ]
     },
     "metadata": {},
     "output_type": "display_data"
    }
   ],
   "source": [
    "brand_count = items_df['brandName'].value_counts()[:10]\n",
    "\n",
    "sns.barplot(x=brand_count.values,\n",
    "            y=brand_count.index,\n",
    "            palette='magma').set_title('Top-10 Brand exist in dataset', fontsize=24);"
   ]
  },
  {
   "cell_type": "code",
   "execution_count": 12,
   "metadata": {},
   "outputs": [
    {
     "data": {
      "image/png": "[encoded data removed]",
      "text/plain": [
       "<Figure size 1296x576 with 1 Axes>"
      ]
     },
     "metadata": {},
     "output_type": "display_data"
    }
   ],
   "source": [
    "sns.distplot(items_df['name'].str.len()).set_title('Item name length distribution', fontsize=24);"
   ]
  },
  {
   "cell_type": "markdown",
   "metadata": {},
   "source": [
    "## Topic Modeling\n",
    "\n",
    "Topic Models are a type of statistical language models used for uncovering hidden structure in a collection of texts. This can be useful for recommendation, search engines etc.\n",
    "\n",
    "Topic modeling use unsupervised-learning method. If we compared to clustering, the number of topics are like the number of clusters as output parameter.\n",
    "\n",
    "* We already drop category features above because it doesn't match with items name\n",
    "* Since category is very important for recommendation, **we can categorize by ourself using topic modeling**\n",
    "* There are two popular approaches: LDA & NMF"
   ]
  },
  {
   "cell_type": "markdown",
   "metadata": {},
   "source": [
    "# Latent Dirichlet Allocation\n",
    "\n",
    "![LDA](https://socs.binus.ac.id/files/2018/11/dw-3.jpg)\n",
    "\n",
    "1. Probabilistic approaches\n",
    "1. View each document as a mixture of a small number of topics\n",
    "1. Words and documents get probability scores for each topic"
   ]
  },
  {
   "cell_type": "code",
   "execution_count": 38,
   "metadata": {},
   "outputs": [
    {
     "data": {
      "text/plain": [
       "<4422x1374 sparse matrix of type '<class 'numpy.int64'>'\n",
       "\twith 43833 stored elements in Compressed Sparse Row format>"
      ]
     },
     "execution_count": 38,
     "metadata": {},
     "output_type": "execute_result"
    }
   ],
   "source": [
    "from sklearn.feature_extraction.text import CountVectorizer\n",
    "\n",
    "vectorizer = CountVectorizer(min_df=3, max_df=0.75)\n",
    "doc_term_matrix = vectorizer.fit_transform(items_df['name'])\n",
    "\n",
    "doc_term_matrix"
   ]
  },
  {
   "cell_type": "markdown",
   "metadata": {},
   "source": [
    "* Each of 4422 documents is represented as 1374 dimensional vector\n",
    "* Which means that our vocabulary has 1374 words."
   ]
  },
  {
   "cell_type": "code",
   "execution_count": 39,
   "metadata": {},
   "outputs": [
    {
     "data": {
      "text/plain": [
       "LatentDirichletAllocation(n_components=4, random_state=2020)"
      ]
     },
     "execution_count": 39,
     "metadata": {},
     "output_type": "execute_result"
    }
   ],
   "source": [
    "from sklearn.decomposition import LatentDirichletAllocation\n",
    "\n",
    "# use LDA to create topics along with the probability distribution for each word in our vocabulary for each topic\n",
    "LDA = LatentDirichletAllocation(n_components=4, random_state=2020)\n",
    "LDA.fit(doc_term_matrix)"
   ]
  },
  {
   "cell_type": "markdown",
   "metadata": {},
   "source": [
    "1. The first topic contains the probabilities of 1975 words for topic 1\n",
    "1. To sort the indexes according to probability values, we can use the argsort() function\n",
    "1. Once sorted, the 10 words with the highest probabilities will now belong to the last 10 indexes of the array"
   ]
  },
  {
   "cell_type": "code",
   "execution_count": 40,
   "metadata": {},
   "outputs": [
    {
     "name": "stdout",
     "output_type": "stream",
     "text": [
      "[1286 1079 1150  892  698  682  109  723  827 1261]\n",
      "\n",
      "usb\n",
      "resmi\n",
      "smart\n",
      "model\n",
      "hitam\n",
      "hd\n",
      "32\n",
      "inch\n",
      "led\n",
      "tv\n"
     ]
    }
   ],
   "source": [
    "first_topic = LDA.components_[0]\n",
    "top_topic_words = first_topic.argsort()[-10:]\n",
    "\n",
    "print(top_topic_words)\n",
    "print()\n",
    "\n",
    "for i in top_topic_words:\n",
    "    print(vectorizer.get_feature_names()[i])"
   ]
  },
  {
   "cell_type": "markdown",
   "metadata": {},
   "source": [
    "Let's print the 10 words with highest probabilities for all the 4 topics:"
   ]
  },
  {
   "cell_type": "code",
   "execution_count": 41,
   "metadata": {},
   "outputs": [
    {
     "name": "stdout",
     "output_type": "stream",
     "text": [
      "Top 10 words for topic #0:\n",
      "['usb', 'resmi', 'smart', 'model', 'hitam', 'hd', '32', 'inch', 'led', 'tv']\n",
      "\n",
      "\n",
      "Top 10 words for topic #1:\n",
      "['16gb', '32gb', 'otg', 'disk', 'drive', 'sandisk', 'gb', 'flash', 'flashdisk', 'usb']\n",
      "\n",
      "\n",
      "Top 10 words for topic #2:\n",
      "['lenovo', 'asus', '10', 'core', 'ram', '1tb', '14', 'laptop', 'intel', '4gb']\n",
      "\n",
      "\n",
      "Top 10 words for topic #3:\n",
      "['wd', 'hard', '1tb', 'pouch', 'hardisk', 'harddisk', 'eksternal', 'external', 'hdd', 'usb']\n",
      "\n",
      "\n"
     ]
    }
   ],
   "source": [
    "for i,topic in enumerate(LDA.components_):\n",
    "    print(f'Top 10 words for topic #{i}:')\n",
    "    print([vectorizer.get_feature_names()[i] for i in topic.argsort()[-10:]])\n",
    "    print('\\n')"
   ]
  },
  {
   "cell_type": "markdown",
   "metadata": {},
   "source": [
    "## From this result, i make a hypothesis (we'll check after this):\n",
    "\n",
    "* Topic 0: TV\n",
    "* Topic 1: flaskdisk\n",
    "* Topic 2: Laptop\n",
    "* Topic 3: Hard-disk"
   ]
  },
  {
   "cell_type": "markdown",
   "metadata": {},
   "source": [
    "Then we will add a column to the original data frame that will store the topic for the text. To do so, we can use LDA.transform() method and pass it our document-term matrix. This method will assign the probability of all the topics to each document."
   ]
  },
  {
   "cell_type": "code",
   "execution_count": 42,
   "metadata": {},
   "outputs": [
    {
     "data": {
      "text/plain": [
       "(4422, 4)"
      ]
     },
     "execution_count": 42,
     "metadata": {},
     "output_type": "execute_result"
    }
   ],
   "source": [
    "topic_values = LDA.transform(doc_term_matrix)\n",
    "topic_values.shape"
   ]
  },
  {
   "cell_type": "code",
   "execution_count": 43,
   "metadata": {},
   "outputs": [],
   "source": [
    "items_df['category'] = topic_values.argmax(axis=1)"
   ]
  },
  {
   "cell_type": "markdown",
   "metadata": {},
   "source": [
    "## Check"
   ]
  },
  {
   "cell_type": "code",
   "execution_count": 45,
   "metadata": {},
   "outputs": [
    {
     "data": {
      "text/plain": [
       "86      sharp 24\" 24le1751 led aquos tv lc tt hitam                                                                                   \n",
       "1977    lg 24tk425a led tv monitor 24 inch                                                                                            \n",
       "2115    tv 32inch polytron type pld32t1550                                                                                            \n",
       "2809    penjualan terbaik 10.1 inch 2 gb ram 32 gb rom komputer tablet jaringan 3g wifi sim rangkap dua kartu untuk android 6.0 sistem\n",
       "700     sharp lc 32le180 aquos led tv 32\" hitam                                                                                       \n",
       "1866    anycast miracast 1080p m2 plus wifi hdmi dongle tampilan receiver dlna tv ginal                                               \n",
       "1817    samsung full hd tv 40 inch model 40n5000                                                                                      \n",
       "3144    samsung hd tv 24 inch model: 24h4150 series 4 dijamin                                                                         \n",
       "3173    polytron 32d9505 led tv pld 32 inch free packing kayu dijamin                                                                 \n",
       "3727    sharp lc24le170i aquos led 24                                                                                                 \n",
       "Name: name, dtype: object"
      ]
     },
     "execution_count": 45,
     "metadata": {},
     "output_type": "execute_result"
    }
   ],
   "source": [
    "# TV\n",
    "items_df[items_df['category'] == 0]['name'].sample(10)"
   ]
  },
  {
   "cell_type": "code",
   "execution_count": 46,
   "metadata": {},
   "outputs": [
    {
     "data": {
      "text/plain": [
       "995     toshiba flashdisk hayabusa 32 gb putih beli 1 1                                         \n",
       "4380    autoleader 32 gb usb 2.0 biru led lampu model bohlam mem flashdisk flashdisk u disk intl\n",
       "2000    sandisk cruzer blade flashdisk 8gb hitam                                                \n",
       "2455    flashdisk sandisk 32gb cruzer blade cz50                                                \n",
       "3447    flashdisk usb flash disk usb flash drive toshiba 4gb free kabel otg                     \n",
       "2511    flashdisk flasdisk flashdis flasdis flash drive hp 16gb kyo                             \n",
       "1234    flashdisk toshiba 32gb bonus flashdisk 16gb dan otg                                     \n",
       "20      flashdisk usb toshiba hayabusa flashdrive 32gb white                                    \n",
       "3892    sandisk usb flash disk cruzer blade 8gb                                                 \n",
       "4324    sandisk ultra fit usb 3.0 flash drive 16gb black                                        \n",
       "Name: name, dtype: object"
      ]
     },
     "execution_count": 46,
     "metadata": {},
     "output_type": "execute_result"
    }
   ],
   "source": [
    "# flaskdisk\n",
    "items_df[items_df['category'] == 1]['name'].sample(10)"
   ]
  },
  {
   "cell_type": "code",
   "execution_count": 47,
   "metadata": {},
   "outputs": [
    {
     "data": {
      "text/plain": [
       "3449    laptop gaming msi gl63 8sc 013id black ci7 8750h 8gb 512gb gtx1650 15.6inch win10 free msi backpack                          \n",
       "2371    dell inspiron 3467 ci3 7020u, 4gb, 1 tb, intel hd, windows hitam free mouse dell wm 126                                      \n",
       "3594    acer predator nitro 5 an515 52 intel core i5 8300h,16gb ram,1tb hdd 128gb ssd,15.6\" fhd,gtx 1050 4gb,win 10 carbon body resmi\n",
       "1574    acer e3 112 c08p silver                                                                                                      \n",
       "511     toshiba c55 c2052 intel core i3 5005m ram 4gb 500gb 15,6\" gold                                                               \n",
       "1166    exclusive lazada hp 15 db0005au amd dual core e2 9000e 4 gb ddr4 500 gb 15.6\" w10 black laptop tas ber                       \n",
       "3661    asus vivobook ultra a412da ek302t notebook ryzen 3 3200u radeon vega 3 4gb 1tb win10 14\" slate grey esel                     \n",
       "3609    laptop hp pavilion x360 11 ab128tu black celeron n4000 4gb 500gb 11.6inch win10                                              \n",
       "181     acer aspire es1 421 24q8 hitam amd e1 6010 ram 2gbddr3 hdd 500gb layar 14\" dvdrw linux amd radeon r2 graphics                \n",
       "2917    asus vivobook s430un eb531t 90nb0j41 m02310 firmament green                                                                  \n",
       "Name: name, dtype: object"
      ]
     },
     "execution_count": 47,
     "metadata": {},
     "output_type": "execute_result"
    }
   ],
   "source": [
    "# Laptop\n",
    "items_df[items_df['category'] == 2]['name'].sample(10)"
   ]
  },
  {
   "cell_type": "code",
   "execution_count": 48,
   "metadata": {},
   "outputs": [
    {
     "data": {
      "text/plain": [
       "588     wd my passport new design 4tb 2.5inch usb3.0 putih free pouch pen                                                                                                        \n",
       "2206    transcend storejet 25h3 4tb biru hardisk external antishock                                                                                                              \n",
       "2764    seagate backup plus slim 1tb biru free pouch                                                                                                                             \n",
       "1593    western digital elements 2.5\" 750gb hitam                                                                                                                                \n",
       "3372    tas dompet travel carger softcase shockproof tas earphone case kotak penyimpanan mini organizer serbaguna k183                                                           \n",
       "1691    promo ginal harddisk external adata hd 710m military grade strength free case harddisk sarung tangan otg card reader 2in1 cable android 1 meter handsfree mp3 iring stand\n",
       "2667    wd elements new edition usb 3.0 2tb wdbu6y0020bbk                                                                                                                        \n",
       "3960    seagate backup plus 6tb desktop storage usb 3.0 hitam go green bag pen                                                                                                   \n",
       "2003    hardisk eksternal transcend storejet 25h3 4tb hdd hd external harddisk eks antishock tahan banting tahan guncangan 2.5                                                   \n",
       "764     aci vakind 2.5 aciaig usb eksternal hard drive disk carry case cover pouch bag untuk pc merah aci intl                                                                   \n",
       "Name: name, dtype: object"
      ]
     },
     "execution_count": 48,
     "metadata": {},
     "output_type": "execute_result"
    }
   ],
   "source": [
    "# Hard-disk\n",
    "items_df[items_df['category'] == 3]['name'].sample(10)"
   ]
  },
  {
   "cell_type": "code",
   "execution_count": 49,
   "metadata": {},
   "outputs": [
    {
     "name": "stdout",
     "output_type": "stream",
     "text": [
      "Log Likelihood:  -245375.9802729427\n",
      "Perplexity:  212.82711739804452\n"
     ]
    }
   ],
   "source": [
    "# Log Likelyhood: Higher the better\n",
    "print(\"Log Likelihood: \", LDA.score(doc_term_matrix))\n",
    "\n",
    "# Perplexity: Lower the better. Perplexity = exp(-1. * log-likelihood per word)\n",
    "print(\"Perplexity: \", LDA.perplexity(doc_term_matrix))"
   ]
  },
  {
   "cell_type": "code",
   "execution_count": 50,
   "metadata": {},
   "outputs": [
    {
     "data": {
      "text/html": [
       "\n",
       "<link rel=\"stylesheet\" type=\"text/css\" href=\"https://cdn.rawgit.com/bmabey/pyLDAvis/files/ldavis.v1.0.0.css\">\n",
       "\n",
       "\n",
       "<div id=\"ldavis_el371405686338490404109288173\"></div>\n",
       "<script type=\"text/javascript\">\n",
       "\n",
       "var ldavis_el371405686338490404109288173_data = {\"mdsDat\": {\"x\": [0.252876259586962, 0.1062585967998798, -0.29494938342181665, -0.06418547296502489], \"y\": [-0.07310405787768119, -0.08700568312878669, -0.16470557244929834, 0.32481531345576614], \"topics\": [1, 2, 3, 4], \"cluster\": [1, 1, 1, 1], \"Freq\": [34.98253069409872, 27.708091268506692, 23.828679690647423, 13.48069834674717]}, \"tinfo\": {\"Term\": [\"flashdisk\", \"tv\", \"led\", \"flash\", \"sandisk\", \"inch\", \"4gb\", \"usb\", \"hdd\", \"gb\", \"external\", \"eksternal\", \"harddisk\", \"32\", \"drive\", \"32gb\", \"intel\", \"14\", \"16gb\", \"ram\", \"64gb\", \"1tb\", \"hardisk\", \"core\", \"hd\", \"pouch\", \"laptop\", \"otg\", \"disk\", \"hard\", \"flashdisk\", \"flash\", \"sandisk\", \"64gb\", \"cruzer\", \"64\", \"blade\", \"16\", \"flasdisk\", \"hayabusa\", \"cz50\", \"memory\", \"fit\", \"sd\", \"flair\", \"kingston\", \"v250w\", \"m3\", \"robot\", \"cz48\", \"merk\", \"cz73\", \"glide\", \"store\", \"flesdisk\", \"random\", \"flashdrive\", \"speed\", \"adaptor\", \"fd\", \"32gb\", \"16gb\", \"gb\", \"stick\", \"data\", \"otg\", \"mem\", \"ultra\", \"drive\", \"disk\", \"dual\", \"usb\", \"toshiba\", \"hp\", \"putih\", \"ginal\", \"micro\", \"32\", \"8gb\", \"samsung\", \"hitam\", \"external\", \"eksternal\", \"harddisk\", \"pouch\", \"hard\", \"wd\", \"case\", \"seagate\", \"2tb\", \"sata\", \"usb3\", \"my\", \"plus\", \"passport\", \"backup\", \"portable\", \"pen\", \"design\", \"canvio\", \"enclosure\", \"casing\", \"co\", \"4tb\", \"5inch\", \"antishock\", \"storejet\", \"bag\", \"kotak\", \"kit\", \"cm\", \"hardisk\", \"hdd\", \"slim\", \"new\", \"1tb\", \"usb\", \"hitam\", \"reader\", \"free\", \"drive\", \"hd\", \"inch\", \"toshiba\", \"disk\", \"4gb\", \"intel\", \"14\", \"ram\", \"core\", \"asus\", \"lenovo\", \"windows\", \"amd\", \"2gb\", \"i5\", \"win10\", \"ideapad\", \"i3\", \"w10\", \"ddr4\", \"jempol\", \"acer\", \"ber\", \"pena\", \"radeon\", \"n4000\", \"dos\", \"grey\", \"i7\", \"celeron\", \"nvidia\", \"tongkat\", \"dvdrw\", \"home\", \"10\", \"15\", \"laptop\", \"500gb\", \"notebook\", \"1tb\", \"8gb\", \"black\", \"tas\", \"hdd\", \"hd\", \"hp\", \"tv\", \"smart\", \"model\", \"polytron\", \"full\", \"24\", \"lg\", \"sharp\", \"movie\", \"40\", \"kayu\", \"packing\", \"hdmi\", \"coocaa\", \"4k\", \"led\", \"lc\", \"43\", \"dijamin\", \"panasonic\", \"cinemax\", \"di\", \"monitor\", \"philips\", \"kota\", \"wajib\", \"keluar\", \"bracket\", \"bluetooth\", \"50\", \"wifi\", \"inch\", \"digital\", \"32\", \"hd\", \"resmi\", \"hitam\", \"samsung\", \"tablet\", \"free\", \"usb\", \"untuk\", \"android\"], \"Freq\": [1254.0, 612.0, 564.0, 946.0, 644.0, 523.0, 418.0, 1910.0, 708.0, 730.0, 408.0, 407.0, 376.0, 417.0, 812.0, 455.0, 284.0, 274.0, 446.0, 257.0, 348.0, 535.0, 357.0, 247.0, 429.0, 270.0, 316.0, 534.0, 605.0, 258.0, 1253.3249683561237, 945.7048855578364, 643.7658190655654, 347.46877314014483, 311.6212813056255, 191.68479455320454, 159.70247196605155, 161.51743758647095, 112.52190562279644, 111.54506322939572, 87.98963203222169, 87.93717324242792, 54.96415486001589, 54.001757257052674, 50.24628927965928, 95.82729562124621, 47.415117475695666, 50.17056503785207, 40.807356366581764, 39.86670049175612, 38.91859723196078, 37.97956183872044, 37.035895518765436, 34.20329325920553, 30.430842762054517, 29.486190356619712, 28.532836154094237, 27.586481698898798, 27.576965631604256, 26.65515510463963, 442.4974166473046, 431.7455148015147, 671.2122894434988, 37.48937626565097, 66.4283424461829, 458.14853134718453, 198.2384452296992, 233.79488724550254, 638.775412251113, 483.4372507492813, 112.68998467820023, 1257.0306101059637, 377.862378889011, 262.30013367908805, 131.066151422877, 152.24664699673275, 108.4636423815297, 210.74874750516156, 152.60686019414945, 118.99562933315639, 125.11692023508014, 407.6116400988025, 406.63446318685186, 375.45082152862483, 270.19824213792134, 257.52664792588786, 242.91061797025048, 241.9347431042266, 215.6225294008189, 208.79763883111798, 198.0726751183251, 196.12630336226727, 171.76705777479427, 170.77475632481259, 147.40297190704388, 143.50470191244068, 134.72343934179835, 130.82102973721598, 115.23856415887938, 91.85199241481719, 88.92798934964904, 82.10537218640759, 78.20692966296383, 72.36123354216551, 71.38656161143393, 68.46307541152972, 63.59020596191692, 62.612476006029446, 47.986055373826495, 47.977773565951395, 45.07151499558878, 329.77769100552877, 561.0556818151808, 143.00355388671787, 135.41266648948107, 269.3010609534917, 565.0884951666839, 202.45946479245896, 92.96245339104696, 155.6860463077107, 173.00297613440117, 124.337943757014, 121.06599507447504, 119.72947307488269, 121.94667149914225, 417.6447737604364, 283.4502177826762, 273.5811423450235, 256.7999510184005, 246.91605454089276, 195.62731402847237, 187.73337142566996, 174.903643177153, 156.15675191872947, 153.09966314097736, 125.56659708741758, 103.85771811807471, 102.87085813864448, 101.88404454753764, 94.97689638314381, 93.00314161613589, 95.91253821968711, 89.05601626392992, 85.1011511026085, 88.02999418124416, 81.16197370726502, 77.21457787769462, 76.22756770452055, 71.29302658288175, 63.3998512081347, 58.46602488426859, 57.47940403746171, 58.42990789738209, 54.518632611280395, 53.52500843640009, 207.0074312026018, 152.6087369400036, 277.1104211201488, 146.56366420013313, 84.08890873328268, 265.61036042898235, 132.57483308475094, 108.64231201472266, 97.74190379198026, 146.83314749069547, 111.05680340431714, 92.13418337131999, 612.2423796192326, 116.3868535485388, 129.22097690403038, 84.07294402182869, 83.05411381010163, 70.94408559182367, 66.90387117228734, 58.82582550867902, 58.82580351802384, 52.76605517617916, 49.73539175629914, 47.71306187382243, 44.68700921364848, 42.66762551176053, 41.65709370564271, 554.0781578934308, 38.62810684905872, 37.618217210469034, 32.56879535149986, 32.562034600815295, 28.52924779585709, 28.52003210692066, 28.514285877584477, 27.5148806594192, 25.499598651989924, 25.499598651989924, 25.499598651989924, 25.497831005161427, 23.474304393341527, 23.45739427093787, 43.06402987668941, 352.4539152888046, 77.10126165386741, 205.97528589571084, 193.51592821736233, 94.31754175316962, 149.03808522801612, 85.1901488437647, 37.346859819397025, 67.3312691248315, 88.60368980715413, 45.37502639601433, 46.715115946065886], \"Total\": [1254.0, 612.0, 564.0, 946.0, 644.0, 523.0, 418.0, 1910.0, 708.0, 730.0, 408.0, 407.0, 376.0, 417.0, 812.0, 455.0, 284.0, 274.0, 446.0, 257.0, 348.0, 535.0, 357.0, 247.0, 429.0, 270.0, 316.0, 534.0, 605.0, 258.0, 1254.072996196631, 946.4614185321278, 644.5105422070982, 348.2221972293536, 312.3650900943741, 192.53310139478563, 160.44629688622376, 162.3384870403596, 113.2665836962387, 112.32412486142078, 88.73306722493982, 88.73545376686394, 55.707223291144864, 54.764667814182054, 50.989244688633335, 97.24714047170279, 48.1584843251927, 50.99186983959743, 41.553446468837436, 40.609702767371516, 39.66639632014803, 38.722510220227505, 37.77891823108592, 34.94819436420204, 31.17374853924356, 30.230196752730304, 29.28726207240375, 28.3434587489833, 28.343885251161876, 27.39943612885047, 455.3790028493612, 446.98938749067435, 730.1108630259872, 38.74502647314732, 69.95059033790965, 534.6297686213195, 227.75708323975775, 275.3329818863798, 812.3002097217466, 605.9183553481435, 128.06169862335233, 1910.976024994337, 524.5460587139428, 372.62016073423797, 165.5070810322608, 199.16606685440982, 134.84031339362753, 417.40623339577985, 293.88282919491377, 213.48134031487695, 518.1398778579015, 408.34789362046854, 407.3733222799072, 376.1871632208285, 270.9338806961842, 258.2644889972277, 243.64600021109112, 242.67141286320694, 216.35810519161245, 209.53615514566698, 198.81597706096375, 196.8666437708557, 172.5025752486148, 171.52801805860193, 148.1383944789388, 144.2401138907695, 135.46902022614353, 131.57058873287724, 115.97768669141293, 92.58804348588119, 89.66437088853532, 82.84236228965597, 78.94409717161513, 73.09670088728028, 72.12213313093619, 69.19842399833085, 64.3255878098883, 63.351108354292634, 48.7323836305379, 48.73198339369014, 45.808804230171496, 357.0237669770031, 708.3788158926221, 170.51457892489717, 170.85794586621478, 535.4005225936945, 1910.976024994337, 518.1398778579015, 119.04404674429836, 366.24347707217646, 812.3002097217466, 429.14697479574716, 523.6085764370375, 524.5460587139428, 605.9183553481435, 418.38380231473303, 284.1828199371088, 274.3151156266011, 257.54005956247084, 247.67269126715385, 196.35993362809046, 188.46575382749495, 175.6376187715587, 156.88898519138067, 153.9244580685572, 126.29899366138805, 104.58996271133493, 103.6031994142084, 102.61641911262575, 95.70900141582786, 93.73545768309914, 96.69394017922865, 89.78835895611843, 85.84136269084806, 88.80008796397621, 81.89416820453812, 77.94707719932437, 76.96031214651265, 72.02639033173867, 64.13223615573594, 59.1983685693339, 58.2115948514711, 59.197015719082216, 55.251282743365806, 54.26440571672311, 217.24705087540082, 163.03138613321386, 316.26510684362034, 161.64322274972238, 97.52360657661866, 535.4005225936945, 293.88282919491377, 191.01915660026523, 163.96292890654593, 708.3788158926221, 429.14697479574716, 372.62016073423797, 612.969646725633, 117.11546366215704, 130.23691682069364, 84.79925031864101, 83.78913494691177, 71.67070760613375, 67.6311469929984, 59.552098423890854, 59.55209682337656, 53.49276549567762, 50.46303051956163, 48.44308774908497, 45.413678805658705, 43.39392022628186, 42.384007524521074, 564.2732659137147, 39.354376355822254, 38.34449010972913, 33.29505990162989, 33.29490485170662, 29.255515342266666, 29.25512337671033, 29.25499624090119, 28.24538016751834, 26.22585736254939, 26.22585736254939, 26.22585736254939, 26.2258024200279, 24.205841367948732, 24.20464077216954, 45.37646470993992, 523.6085764370375, 103.07215867920891, 417.40623339577985, 429.14697479574716, 191.8366158649263, 518.1398778579015, 213.48134031487695, 58.91775660182692, 366.24347707217646, 1910.976024994337, 155.30643812701277, 180.1906444783842], \"Category\": [\"Default\", \"Default\", \"Default\", \"Default\", \"Default\", \"Default\", \"Default\", \"Default\", \"Default\", \"Default\", \"Default\", \"Default\", \"Default\", \"Default\", \"Default\", \"Default\", \"Default\", \"Default\", \"Default\", \"Default\", \"Default\", \"Default\", \"Default\", \"Default\", \"Default\", \"Default\", \"Default\", \"Default\", \"Default\", \"Default\", \"Topic1\", \"Topic1\", \"Topic1\", \"Topic1\", \"Topic1\", \"Topic1\", \"Topic1\", \"Topic1\", \"Topic1\", \"Topic1\", \"Topic1\", \"Topic1\", \"Topic1\", \"Topic1\", \"Topic1\", \"Topic1\", \"Topic1\", \"Topic1\", \"Topic1\", \"Topic1\", \"Topic1\", \"Topic1\", \"Topic1\", \"Topic1\", \"Topic1\", \"Topic1\", \"Topic1\", \"Topic1\", \"Topic1\", \"Topic1\", \"Topic1\", \"Topic1\", \"Topic1\", \"Topic1\", \"Topic1\", \"Topic1\", \"Topic1\", \"Topic1\", \"Topic1\", \"Topic1\", \"Topic1\", \"Topic1\", \"Topic1\", \"Topic1\", \"Topic1\", \"Topic1\", \"Topic1\", \"Topic1\", \"Topic1\", \"Topic1\", \"Topic1\", \"Topic2\", \"Topic2\", \"Topic2\", \"Topic2\", \"Topic2\", \"Topic2\", \"Topic2\", \"Topic2\", \"Topic2\", \"Topic2\", \"Topic2\", \"Topic2\", \"Topic2\", \"Topic2\", \"Topic2\", \"Topic2\", \"Topic2\", \"Topic2\", \"Topic2\", \"Topic2\", \"Topic2\", \"Topic2\", \"Topic2\", \"Topic2\", \"Topic2\", \"Topic2\", \"Topic2\", \"Topic2\", \"Topic2\", \"Topic2\", \"Topic2\", \"Topic2\", \"Topic2\", \"Topic2\", \"Topic2\", \"Topic2\", \"Topic2\", \"Topic2\", \"Topic2\", \"Topic2\", \"Topic2\", \"Topic2\", \"Topic2\", \"Topic2\", \"Topic3\", \"Topic3\", \"Topic3\", \"Topic3\", \"Topic3\", \"Topic3\", \"Topic3\", \"Topic3\", \"Topic3\", \"Topic3\", \"Topic3\", \"Topic3\", \"Topic3\", \"Topic3\", \"Topic3\", \"Topic3\", \"Topic3\", \"Topic3\", \"Topic3\", \"Topic3\", \"Topic3\", \"Topic3\", \"Topic3\", \"Topic3\", \"Topic3\", \"Topic3\", \"Topic3\", \"Topic3\", \"Topic3\", \"Topic3\", \"Topic3\", \"Topic3\", \"Topic3\", \"Topic3\", \"Topic3\", \"Topic3\", \"Topic3\", \"Topic3\", \"Topic3\", \"Topic3\", \"Topic3\", \"Topic3\", \"Topic4\", \"Topic4\", \"Topic4\", \"Topic4\", \"Topic4\", \"Topic4\", \"Topic4\", \"Topic4\", \"Topic4\", \"Topic4\", \"Topic4\", \"Topic4\", \"Topic4\", \"Topic4\", \"Topic4\", \"Topic4\", \"Topic4\", \"Topic4\", \"Topic4\", \"Topic4\", \"Topic4\", \"Topic4\", \"Topic4\", \"Topic4\", \"Topic4\", \"Topic4\", \"Topic4\", \"Topic4\", \"Topic4\", \"Topic4\", \"Topic4\", \"Topic4\", \"Topic4\", \"Topic4\", \"Topic4\", \"Topic4\", \"Topic4\", \"Topic4\", \"Topic4\", \"Topic4\", \"Topic4\", \"Topic4\", \"Topic4\"], \"logprob\": [30.0, 29.0, 28.0, 27.0, 26.0, 25.0, 24.0, 23.0, 22.0, 21.0, 20.0, 19.0, 18.0, 17.0, 16.0, 15.0, 14.0, 13.0, 12.0, 11.0, 10.0, 9.0, 8.0, 7.0, 6.0, 5.0, 4.0, 3.0, 2.0, 1.0, -2.5476, -2.8292, -3.2138, -3.8305, -3.9394, -4.4253, -4.6079, -4.5966, -4.958, -4.9667, -5.204, -5.2045, -5.6745, -5.6922, -5.7642, -5.1186, -5.8222, -5.7657, -5.9723, -5.9956, -6.0197, -6.0441, -6.0693, -6.1489, -6.2657, -6.2972, -6.3301, -6.3638, -6.3642, -6.3982, -3.5887, -3.6133, -3.1721, -6.0571, -5.485, -3.554, -4.3917, -4.2267, -3.2216, -3.5003, -4.9565, -2.5447, -3.7466, -4.1117, -4.8055, -4.6557, -4.9948, -4.3305, -4.6533, -4.9021, -4.8519, -3.4377, -3.4401, -3.5199, -3.8489, -3.8969, -3.9554, -3.9594, -4.0745, -4.1067, -4.1594, -4.1693, -4.3019, -4.3077, -4.4549, -4.4817, -4.5448, -4.5742, -4.701, -4.9279, -4.9602, -5.04, -5.0887, -5.1664, -5.1799, -5.2218, -5.2956, -5.3111, -5.5771, -5.5773, -5.6398, -3.6496, -3.1182, -4.4852, -4.5397, -3.8522, -3.1111, -4.1375, -4.9159, -4.4002, -4.2947, -4.625, -4.6517, -4.6628, -4.6445, -3.2626, -3.6502, -3.6856, -3.7489, -3.7882, -4.021, -4.0622, -4.133, -4.2464, -4.2661, -4.4644, -4.6542, -4.6637, -4.6734, -4.7436, -4.7646, -4.7338, -4.8079, -4.8534, -4.8195, -4.9008, -4.9506, -4.9635, -5.0304, -5.1478, -5.2288, -5.2458, -5.2294, -5.2987, -5.3171, -3.9645, -4.2693, -3.6728, -4.3098, -4.8653, -3.7152, -4.4101, -4.6092, -4.7149, -4.3079, -4.5872, -4.774, -2.3105, -3.9707, -3.8661, -4.2959, -4.3081, -4.4657, -4.5243, -4.653, -4.653, -4.7617, -4.8209, -4.8624, -4.9279, -4.9741, -4.9981, -2.4103, -5.0736, -5.1001, -5.2442, -5.2444, -5.3767, -5.377, -5.3772, -5.4129, -5.4889, -5.4889, -5.4889, -5.489, -5.5717, -5.5724, -4.9649, -2.8627, -4.3825, -3.3998, -3.4622, -4.1809, -3.7234, -4.2827, -5.1073, -4.518, -4.2434, -4.9126, -4.8835], \"loglift\": [30.0, 29.0, 28.0, 27.0, 26.0, 25.0, 24.0, 23.0, 22.0, 21.0, 20.0, 19.0, 18.0, 17.0, 16.0, 15.0, 14.0, 13.0, 12.0, 11.0, 10.0, 9.0, 8.0, 7.0, 6.0, 5.0, 4.0, 3.0, 2.0, 1.0, 1.0497, 1.0495, 1.0492, 1.0482, 1.0479, 1.0459, 1.0457, 1.0453, 1.0437, 1.0434, 1.0419, 1.0413, 1.0369, 1.0363, 1.0356, 1.0356, 1.0348, 1.0341, 1.0322, 1.0319, 1.0313, 1.0309, 1.0305, 1.0288, 1.0262, 1.0254, 1.0242, 1.0233, 1.0229, 1.0228, 1.0216, 1.0156, 0.9662, 1.0174, 0.9987, 0.8959, 0.9115, 0.8868, 0.81, 0.8245, 0.9224, 0.6315, 0.7223, 0.6993, 0.817, 0.7817, 0.8326, 0.3669, 0.395, 0.4659, -0.3707, 1.2816, 1.2816, 1.2815, 1.2807, 1.2806, 1.2804, 1.2804, 1.28, 1.2799, 1.2797, 1.2797, 1.2792, 1.279, 1.2785, 1.2783, 1.2779, 1.2777, 1.2771, 1.2755, 1.2752, 1.2745, 1.2741, 1.2733, 1.2732, 1.2728, 1.2719, 1.2717, 1.268, 1.2678, 1.2672, 1.2041, 1.0503, 1.1075, 1.0509, 0.5963, 0.0651, 0.3437, 1.0361, 0.428, -0.2631, 0.0446, -0.181, -0.1939, -0.3197, 1.4325, 1.4317, 1.4316, 1.4314, 1.4312, 1.4305, 1.4304, 1.4301, 1.4296, 1.4289, 1.4285, 1.4273, 1.4272, 1.4271, 1.4266, 1.4264, 1.4262, 1.4261, 1.4256, 1.4256, 1.4253, 1.4248, 1.4247, 1.424, 1.4228, 1.4218, 1.4216, 1.4212, 1.4209, 1.4206, 1.386, 1.3682, 1.3021, 1.3363, 1.2861, 0.7333, 0.6382, 0.87, 0.917, -0.1394, 0.0825, 0.037, 2.0027, 1.9977, 1.9961, 1.9953, 1.9951, 1.9937, 1.9931, 1.9916, 1.9916, 1.9902, 1.9894, 1.9887, 1.9878, 1.987, 1.9866, 1.9857, 1.9853, 1.9848, 1.9819, 1.9817, 1.9788, 1.9785, 1.9783, 1.9777, 1.9758, 1.9758, 1.9758, 1.9758, 1.9732, 1.9726, 1.9516, 1.6081, 1.7136, 1.2976, 1.2075, 1.2939, 0.7579, 1.0852, 1.548, 0.3102, -1.0673, 0.7735, 0.654]}, \"token.table\": {\"Topic\": [1, 3, 4, 3, 3, 4, 1, 1, 3, 2, 3, 4, 3, 2, 1, 4, 1, 3, 4, 4, 3, 4, 2, 4, 2, 3, 2, 1, 1, 1, 2, 3, 3, 1, 3, 1, 2, 4, 2, 3, 2, 2, 3, 1, 2, 3, 4, 1, 4, 4, 2, 2, 2, 3, 4, 2, 2, 4, 3, 1, 1, 1, 1, 1, 2, 3, 2, 4, 2, 4, 4, 1, 2, 3, 1, 2, 1, 3, 3, 2, 2, 2, 1, 1, 1, 1, 1, 1, 1, 1, 1, 2, 3, 4, 4, 1, 3, 4, 1, 2, 3, 4, 1, 3, 2, 2, 2, 3, 1, 2, 3, 4, 2, 3, 4, 1, 2, 3, 4, 3, 1, 2, 3, 3, 3, 3, 3, 2, 3, 4, 3, 3, 4, 4, 1, 2, 2, 4, 2, 2, 3, 4, 3, 4, 3, 4, 1, 1, 3, 1, 1, 1, 2, 3, 4, 4, 4, 2, 3, 1, 2, 3, 4, 2, 3, 3, 1, 2, 4, 4, 2, 2, 3, 4, 2, 4, 2, 2, 1, 2, 4, 3, 3, 1, 1, 2, 1, 3, 4, 1, 1, 2, 4, 1, 2, 1, 2, 4, 2, 4, 4, 1, 1, 3, 1, 2, 2, 3, 4, 2, 3, 3, 1, 2, 4, 4, 1, 2, 4, 1, 2, 3, 4, 1, 2, 4, 2, 1, 3, 4, 2, 3, 4, 3, 3], \"Freq\": [0.004603054430292528, 0.9528322670705534, 0.041427489872632756, 0.9988512640804307, 0.9384696016445744, 0.0613378824604297, 0.9979149304238898, 0.9664658984974513, 0.03355784369782817, 0.5024276007368396, 0.4968243189442354, 0.9906418168797828, 0.9939940794324873, 0.9974412284825297, 0.5055027527582038, 0.4935240145411847, 0.9706200708296887, 0.02635167613112277, 0.9907881843252723, 0.9910159162700217, 0.9990826549388154, 0.9909398014263067, 0.9849965747568901, 0.9502309997694891, 0.09279696200579347, 0.909410227656776, 0.9844412099001706, 0.9972311182288986, 0.9964901800084025, 0.5206156495060991, 0.027221733307508447, 0.4525613162373279, 0.9912198088339745, 0.9878673919219392, 0.9943336672724586, 0.4606232484503752, 0.2774838846086598, 0.2608348515321402, 0.9826813397027689, 0.9981669701071901, 0.9983353182114697, 0.9944577393606272, 0.9901986331009426, 0.14134707995021328, 0.21463815844291645, 0.5706233968360462, 0.07852615552789627, 0.9972184033231989, 0.9501838688596298, 0.9532596791360027, 0.9936488183166884, 0.9972332428641465, 0.9898317446971071, 0.9797567298171341, 0.9912660795997836, 0.982343913058556, 0.9880409402926887, 0.9909222254125066, 0.9972839505893355, 0.9988312071164425, 0.9849862785043236, 0.9917385113817662, 0.9813413382521341, 0.943523130843849, 0.042887415038356774, 0.9921539009753857, 0.9915700448999789, 0.9912793607661409, 0.24254852445467262, 0.7470494553203917, 0.9911380276082504, 0.7971370989784291, 0.20134725895521396, 0.9875219821784966, 0.7866549735582236, 0.2129754466753876, 0.8823871712989617, 0.11713104043791527, 0.9954520016388945, 0.9990835868244443, 0.9925904695259479, 0.9991480460021869, 0.9854217390835324, 0.9873046393382654, 0.9805989538642086, 0.9976464047246836, 0.9995124803577906, 0.9991443909565988, 0.9901915695740495, 0.9623481745300547, 0.26212070933643156, 0.4259461526717013, 0.13106035466821578, 0.18293841172438452, 0.9905818940914981, 0.9190385104242953, 0.07943999046886606, 0.0013696550080838977, 0.7631822147249202, 0.13054432620294687, 0.05523029185509291, 0.05020935623190264, 0.9793821986558368, 0.9857498018849573, 0.9989758987065753, 0.9968442218743876, 0.9243082128514324, 0.0756252174151172, 0.9971143789295428, 0.2889452967925916, 0.25865264470949734, 0.4520595772400224, 0.7919491484130403, 0.20751608701732074, 0.990890876569833, 0.24124759614484048, 0.3898561153700622, 0.0810591923046664, 0.28756713460464983, 0.9951274557745386, 0.7031288899766885, 0.04830656496023051, 0.24690022090784483, 0.9939929777519404, 0.9976326520685536, 0.9823452880547239, 0.9941777916355962, 0.23108865180047317, 0.09549117842994759, 0.672257896146831, 0.9958378203954393, 0.9928233333139348, 0.9908243616208873, 0.9532576820805897, 0.9871755563643984, 0.010283078712129148, 0.9849794048443158, 0.9532576820805897, 0.9849713152533143, 0.12331426754353854, 0.8758474899887224, 0.9909952491022049, 0.017721909939871473, 0.9817938106688797, 0.997528708436222, 0.9906678058696279, 0.9805484709088429, 0.8693472764206734, 0.1273286414959572, 0.9917118385533227, 0.9831999782695272, 0.8009474116596351, 0.19282067317731957, 0.0076783144473296355, 0.990502563705523, 0.9912836686492312, 0.9907291791082689, 0.9970865637925088, 0.9878497407041636, 0.06438096831980657, 0.7901300657430806, 0.04682252241440478, 0.09364504482880956, 0.13330105864969885, 0.8613299174288233, 0.9791863656276293, 0.8566675985534268, 0.14215444866825422, 0.990853437101698, 0.9911426432056164, 0.9923153313295787, 0.995663250135365, 0.9909900093308378, 0.9913125556794409, 0.9969216804077947, 0.9905747949936142, 0.9965378045448282, 0.9965531047878379, 0.7915069203260575, 0.16917705167274513, 0.04229426291818628, 0.9890814178330153, 0.9979030075422506, 0.9593056981139497, 0.21840655380144222, 0.7812234424436202, 0.31276615118276735, 0.19287245989603985, 0.49000030351966883, 0.9866810934863733, 0.5574257676313981, 0.04215825133346708, 0.39816126259385576, 0.9992078605799839, 0.9958958174638373, 0.9860372052876027, 0.9983448496588778, 0.9907291524815628, 0.8386379680941187, 0.1583442317380504, 0.9904755219569056, 0.9878822569953423, 0.9549612780789625, 0.02580976427240439, 0.9728685735714779, 0.9949384401919409, 0.20367374272407215, 0.1697281189367268, 0.6279940400658891, 0.40253001358385143, 0.5976960807760219, 0.9797791205427885, 0.7206230868014956, 0.2287692339052367, 0.051473077628678254, 0.9984181162463547, 0.8498800194470111, 0.10895897685218091, 0.039951624845799664, 0.2446775578545097, 0.4571607002018471, 0.006438883101434466, 0.28974973956455097, 0.6577790529861436, 0.2956604335220136, 0.04657305943975082, 0.9955978130461531, 0.9759443358439195, 0.9925921135385433, 0.9532576820805897, 0.9973486114669174, 0.04407571221743705, 0.9476278126748966, 0.9943592798387049, 0.9963696913222901], \"Term\": [\"10\", \"10\", \"10\", \"14\", \"15\", \"15\", \"16\", \"16gb\", \"16gb\", \"1tb\", \"1tb\", \"24\", \"2gb\", \"2tb\", \"32\", \"32\", \"32gb\", \"32gb\", \"40\", \"43\", \"4gb\", \"4k\", \"4tb\", \"50\", \"500gb\", \"500gb\", \"5inch\", \"64\", \"64gb\", \"8gb\", \"8gb\", \"8gb\", \"acer\", \"adaptor\", \"amd\", \"android\", \"android\", \"android\", \"antishock\", \"asus\", \"backup\", \"bag\", \"ber\", \"black\", \"black\", \"black\", \"black\", \"blade\", \"bluetooth\", \"bracket\", \"canvio\", \"case\", \"casing\", \"celeron\", \"cinemax\", \"cm\", \"co\", \"coocaa\", \"core\", \"cruzer\", \"cz48\", \"cz50\", \"cz73\", \"data\", \"data\", \"ddr4\", \"design\", \"di\", \"digital\", \"digital\", \"dijamin\", \"disk\", \"disk\", \"dos\", \"drive\", \"drive\", \"dual\", \"dual\", \"dvdrw\", \"eksternal\", \"enclosure\", \"external\", \"fd\", \"fit\", \"flair\", \"flasdisk\", \"flash\", \"flashdisk\", \"flashdrive\", \"flesdisk\", \"free\", \"free\", \"free\", \"free\", \"full\", \"gb\", \"gb\", \"gb\", \"ginal\", \"ginal\", \"ginal\", \"ginal\", \"glide\", \"grey\", \"hard\", \"harddisk\", \"hardisk\", \"hardisk\", \"hayabusa\", \"hd\", \"hd\", \"hd\", \"hdd\", \"hdd\", \"hdmi\", \"hitam\", \"hitam\", \"hitam\", \"hitam\", \"home\", \"hp\", \"hp\", \"hp\", \"i3\", \"i5\", \"i7\", \"ideapad\", \"inch\", \"inch\", \"inch\", \"intel\", \"jempol\", \"kayu\", \"keluar\", \"kingston\", \"kingston\", \"kit\", \"kota\", \"kotak\", \"laptop\", \"laptop\", \"lc\", \"led\", \"led\", \"lenovo\", \"lg\", \"m3\", \"mem\", \"mem\", \"memory\", \"merk\", \"micro\", \"micro\", \"model\", \"model\", \"monitor\", \"movie\", \"my\", \"n4000\", \"new\", \"new\", \"new\", \"new\", \"notebook\", \"notebook\", \"nvidia\", \"otg\", \"otg\", \"packing\", \"panasonic\", \"passport\", \"pen\", \"pena\", \"philips\", \"plus\", \"polytron\", \"portable\", \"pouch\", \"putih\", \"putih\", \"putih\", \"radeon\", \"ram\", \"random\", \"reader\", \"reader\", \"resmi\", \"resmi\", \"resmi\", \"robot\", \"samsung\", \"samsung\", \"samsung\", \"sandisk\", \"sata\", \"sd\", \"seagate\", \"sharp\", \"slim\", \"slim\", \"smart\", \"speed\", \"stick\", \"stick\", \"store\", \"storejet\", \"tablet\", \"tablet\", \"tablet\", \"tas\", \"tas\", \"tongkat\", \"toshiba\", \"toshiba\", \"toshiba\", \"tv\", \"ultra\", \"ultra\", \"ultra\", \"untuk\", \"untuk\", \"untuk\", \"untuk\", \"usb\", \"usb\", \"usb\", \"usb3\", \"v250w\", \"w10\", \"wajib\", \"wd\", \"wifi\", \"wifi\", \"win10\", \"windows\"]}, \"R\": 30, \"lambda.step\": 0.01, \"plot.opts\": {\"xlab\": \"PC1\", \"ylab\": \"PC2\"}, \"topic.order\": [2, 4, 3, 1]};\n",
       "\n",
       "function LDAvis_load_lib(url, callback){\n",
       "  var s = document.createElement('script');\n",
       "  s.src = url;\n",
       "  s.async = true;\n",
       "  s.onreadystatechange = s.onload = callback;\n",
       "  s.onerror = function(){console.warn(\"failed to load library \" + url);};\n",
       "  document.getElementsByTagName(\"head\")[0].appendChild(s);\n",
       "}\n",
       "\n",
       "if(typeof(LDAvis) !== \"undefined\"){\n",
       "   // already loaded: just create the visualization\n",
       "   !function(LDAvis){\n",
       "       new LDAvis(\"#\" + \"ldavis_el371405686338490404109288173\", ldavis_el371405686338490404109288173_data);\n",
       "   }(LDAvis);\n",
       "}else if(typeof define === \"function\" && define.amd){\n",
       "   // require.js is available: use it to load d3/LDAvis\n",
       "   require.config({paths: {d3: \"https://cdnjs.cloudflare.com/ajax/libs/d3/3.5.5/d3.min\"}});\n",
       "   require([\"d3\"], function(d3){\n",
       "      window.d3 = d3;\n",
       "      LDAvis_load_lib(\"https://cdn.rawgit.com/bmabey/pyLDAvis/files/ldavis.v1.0.0.js\", function(){\n",
       "        new LDAvis(\"#\" + \"ldavis_el371405686338490404109288173\", ldavis_el371405686338490404109288173_data);\n",
       "      });\n",
       "    });\n",
       "}else{\n",
       "    // require.js not available: dynamically load d3 & LDAvis\n",
       "    LDAvis_load_lib(\"https://cdnjs.cloudflare.com/ajax/libs/d3/3.5.5/d3.min.js\", function(){\n",
       "         LDAvis_load_lib(\"https://cdn.rawgit.com/bmabey/pyLDAvis/files/ldavis.v1.0.0.js\", function(){\n",
       "                 new LDAvis(\"#\" + \"ldavis_el371405686338490404109288173\", ldavis_el371405686338490404109288173_data);\n",
       "            })\n",
       "         });\n",
       "}\n",
       "</script>"
      ],
      "text/plain": [
       "PreparedData(topic_coordinates=              x         y  topics  cluster       Freq\n",
       "topic                                                \n",
       "1      0.252876 -0.073104  1       1        34.982531\n",
       "3      0.106259 -0.087006  2       1        27.708091\n",
       "2     -0.294949 -0.164706  3       1        23.828680\n",
       "0     -0.064185  0.324815  4       1        13.480698, topic_info=           Term         Freq        Total Category  logprob  loglift\n",
       "600   flashdisk  1254.000000  1254.000000  Default  30.0000  30.0000\n",
       "1261  tv         612.000000   612.000000   Default  29.0000  29.0000\n",
       "827   led        564.000000   564.000000   Default  28.0000  28.0000\n",
       "597   flash      946.000000   946.000000   Default  27.0000  27.0000\n",
       "1102  sandisk    644.000000   644.000000   Default  26.0000  26.0000\n",
       "...       ...           ...          ...       ...      ...      ...\n",
       "1199  tablet     37.346860    58.917757    Topic4  -5.1073   1.5480 \n",
       "611   free       67.331269    366.243477   Topic4  -4.5180   0.3102 \n",
       "1286  usb        88.603690    1910.976025  Topic4  -4.2434  -1.0673 \n",
       "1282  untuk      45.375026    155.306438   Topic4  -4.9126   0.7735 \n",
       "296   android    46.715116    180.190644   Topic4  -4.8835   0.6540 \n",
       "\n",
       "[210 rows x 6 columns], token_table=      Topic      Freq     Term\n",
       "term                          \n",
       "4     1      0.004603  10     \n",
       "4     3      0.952832  10     \n",
       "4     4      0.041427  10     \n",
       "25    3      0.998851  14     \n",
       "35    3      0.938470  15     \n",
       "...  ..           ...  ..     \n",
       "1331  2      0.997349  wd     \n",
       "1335  3      0.044076  wifi   \n",
       "1335  4      0.947628  wifi   \n",
       "1337  3      0.994359  win10  \n",
       "1340  3      0.996370  windows\n",
       "\n",
       "[235 rows x 3 columns], R=30, lambda_step=0.01, plot_opts={'xlab': 'PC1', 'ylab': 'PC2'}, topic_order=[2, 4, 3, 1])"
      ]
     },
     "execution_count": 50,
     "metadata": {},
     "output_type": "execute_result"
    }
   ],
   "source": [
    "import pyLDAvis\n",
    "from pyLDAvis import sklearn\n",
    "\n",
    "# pyLDAvis.enable_notebook()\n",
    "# vis = sklearn.prepare(LDA, doc_term_matrix, vectorizer)\n",
    "\n",
    "# vis"
   ]
  },
  {
   "cell_type": "markdown",
   "metadata": {},
   "source": [
    "# Non-Negative Matrix Factorization\n",
    "\n",
    "* Non-negative matrix factorization is also a unsupervised-learning technique which performs clustering as well as dimensionality reduction\n",
    "* Apply methods from linear algebra to decompose a single matrix (e.g. document-term-matrix) into a set of smaller matrices\n",
    "* It can be used in combination with TF-IDF scheme to perform topic modeling."
   ]
  },
  {
   "cell_type": "code",
   "execution_count": 65,
   "metadata": {},
   "outputs": [
    {
     "data": {
      "text/plain": [
       "<4422x1975 sparse matrix of type '<class 'numpy.float64'>'\n",
       "\twith 45035 stored elements in Compressed Sparse Row format>"
      ]
     },
     "execution_count": 65,
     "metadata": {},
     "output_type": "execute_result"
    }
   ],
   "source": [
    "from sklearn.feature_extraction.text import TfidfVectorizer\n",
    "\n",
    "tfidf_vect = TfidfVectorizer(min_df=2, max_df=0.8)\n",
    "nmf_term_matrix = tfidf_vect.fit_transform(items_df['name'])\n",
    "\n",
    "nmf_term_matrix"
   ]
  },
  {
   "cell_type": "code",
   "execution_count": 66,
   "metadata": {},
   "outputs": [
    {
     "data": {
      "text/plain": [
       "NMF(init='nndsvd', n_components=4, random_state=2020)"
      ]
     },
     "execution_count": 66,
     "metadata": {},
     "output_type": "execute_result"
    }
   ],
   "source": [
    "from sklearn.decomposition import NMF\n",
    "\n",
    "nmf = NMF(n_components=4, init='nndsvd', random_state=2020)\n",
    "nmf.fit(nmf_term_matrix)"
   ]
  },
  {
   "cell_type": "code",
   "execution_count": 67,
   "metadata": {},
   "outputs": [
    {
     "name": "stdout",
     "output_type": "stream",
     "text": [
      "Top 10 words for topic #0:\n",
      "['otg', 'hp', 'disk', '64gb', 'gb', 'drive', 'usb', 'toshiba', 'flash', 'flashdisk']\n",
      "\n",
      "\n",
      "Top 10 words for topic #1:\n",
      "['my', 'pouch', '1tb', 'seagate', 'hardisk', 'eksternal', 'wd', 'harddisk', 'hdd', 'external']\n",
      "\n",
      "\n",
      "Top 10 words for topic #2:\n",
      "['polytron', 'model', 'resmi', 'smart', 'hitam', 'hd', '32', 'inch', 'led', 'tv']\n",
      "\n",
      "\n",
      "Top 10 words for topic #3:\n",
      "['hitam', '32gb', 'usb', 'ultra', 'flashdisk', '16gb', 'cz50', 'blade', 'cruzer', 'sandisk']\n",
      "\n",
      "\n"
     ]
    }
   ],
   "source": [
    "for i, topic in enumerate(nmf.components_):\n",
    "    print(f'Top 10 words for topic #{i}:')\n",
    "    print([tfidf_vect.get_feature_names()[i] for i in topic.argsort()[-10:]])\n",
    "    print('\\n')"
   ]
  },
  {
   "cell_type": "markdown",
   "metadata": {},
   "source": [
    "## Result:\n",
    "\n",
    "1. In this experiment, LDA performed better than NMF, we can see above NMF did not make a good categorize for laptop\n",
    "1. But i didn't tuning the model, if you interested you can use gridsearchCV to find a good hyperparameter for LDA / NMF\n",
    "1. We also can tuning CountVectorizer / TfidfVectorizer to use bi-gram or tri-gram"
   ]
  },
  {
   "cell_type": "markdown",
   "metadata": {},
   "source": [
    "### Reference\n",
    "\n",
    "[Python for NLP: Topic Modeling](https://stackabuse.com/python-for-nlp-topic-modeling/)\n",
    "\n",
    "[LDA in Python](https://www.machinelearningplus.com/nlp/topic-modeling-python-sklearn-examples/)"
   ]
  }
 ],
 "metadata": {
  "kernelspec": {
   "display_name": "Python 3",
   "language": "python",
   "name": "python3"
  },
  "language_info": {
   "codemirror_mode": {
    "name": "ipython",
    "version": 3
   },
   "file_extension": ".py",
   "mimetype": "text/x-python",
   "name": "python",
   "nbconvert_exporter": "python",
   "pygments_lexer": "ipython3",
   "version": "3.7.3"
  }
 },
 "nbformat": 4,
 "nbformat_minor": 4
}
